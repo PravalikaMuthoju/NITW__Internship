{
  "nbformat": 4,
  "nbformat_minor": 0,
  "metadata": {
    "colab": {
      "provenance": [],
      "gpuType": "T4",
      "authorship_tag": "ABX9TyOieFLnu3/te6MON+KmxOiH",
      "include_colab_link": true
    },
    "kernelspec": {
      "name": "python3",
      "display_name": "Python 3"
    },
    "language_info": {
      "name": "python"
    },
    "accelerator": "GPU"
  },
  "cells": [
    {
      "cell_type": "markdown",
      "metadata": {
        "id": "view-in-github",
        "colab_type": "text"
      },
      "source": [
        "<a href=\"https://colab.research.google.com/github/PravalikaMuthoju/INTERNSHIP-PROJECTS/blob/main/Jobshop_RL_pynb.ipynb\" target=\"_parent\"><img src=\"https://colab.research.google.com/assets/colab-badge.svg\" alt=\"Open In Colab\"/></a>"
      ]
    },
    {
      "cell_type": "code",
      "source": [
        "from google.colab import files\n",
        "uploaded = files.upload()  # Upload JOBSHOPRL.zip"
      ],
      "metadata": {
        "colab": {
          "base_uri": "https://localhost:8080/",
          "height": 71
        },
        "id": "d5tDmsAZNBdb",
        "outputId": "20165f58-7621-4424-85c0-a7b60765ba54"
      },
      "execution_count": null,
      "outputs": [
        {
          "output_type": "display_data",
          "data": {
            "text/plain": [
              "<IPython.core.display.HTML object>"
            ],
            "text/html": [
              "\n",
              "     <input type=\"file\" id=\"files-6e20f237-13b9-4457-a390-6008b2f9c123\" name=\"files[]\" multiple disabled\n",
              "        style=\"border:none\" />\n",
              "     <output id=\"result-6e20f237-13b9-4457-a390-6008b2f9c123\">\n",
              "      Upload widget is only available when the cell has been executed in the\n",
              "      current browser session. Please rerun this cell to enable.\n",
              "      </output>\n",
              "      <script>// Copyright 2017 Google LLC\n",
              "//\n",
              "// Licensed under the Apache License, Version 2.0 (the \"License\");\n",
              "// you may not use this file except in compliance with the License.\n",
              "// You may obtain a copy of the License at\n",
              "//\n",
              "//      http://www.apache.org/licenses/LICENSE-2.0\n",
              "//\n",
              "// Unless required by applicable law or agreed to in writing, software\n",
              "// distributed under the License is distributed on an \"AS IS\" BASIS,\n",
              "// WITHOUT WARRANTIES OR CONDITIONS OF ANY KIND, either express or implied.\n",
              "// See the License for the specific language governing permissions and\n",
              "// limitations under the License.\n",
              "\n",
              "/**\n",
              " * @fileoverview Helpers for google.colab Python module.\n",
              " */\n",
              "(function(scope) {\n",
              "function span(text, styleAttributes = {}) {\n",
              "  const element = document.createElement('span');\n",
              "  element.textContent = text;\n",
              "  for (const key of Object.keys(styleAttributes)) {\n",
              "    element.style[key] = styleAttributes[key];\n",
              "  }\n",
              "  return element;\n",
              "}\n",
              "\n",
              "// Max number of bytes which will be uploaded at a time.\n",
              "const MAX_PAYLOAD_SIZE = 100 * 1024;\n",
              "\n",
              "function _uploadFiles(inputId, outputId) {\n",
              "  const steps = uploadFilesStep(inputId, outputId);\n",
              "  const outputElement = document.getElementById(outputId);\n",
              "  // Cache steps on the outputElement to make it available for the next call\n",
              "  // to uploadFilesContinue from Python.\n",
              "  outputElement.steps = steps;\n",
              "\n",
              "  return _uploadFilesContinue(outputId);\n",
              "}\n",
              "\n",
              "// This is roughly an async generator (not supported in the browser yet),\n",
              "// where there are multiple asynchronous steps and the Python side is going\n",
              "// to poll for completion of each step.\n",
              "// This uses a Promise to block the python side on completion of each step,\n",
              "// then passes the result of the previous step as the input to the next step.\n",
              "function _uploadFilesContinue(outputId) {\n",
              "  const outputElement = document.getElementById(outputId);\n",
              "  const steps = outputElement.steps;\n",
              "\n",
              "  const next = steps.next(outputElement.lastPromiseValue);\n",
              "  return Promise.resolve(next.value.promise).then((value) => {\n",
              "    // Cache the last promise value to make it available to the next\n",
              "    // step of the generator.\n",
              "    outputElement.lastPromiseValue = value;\n",
              "    return next.value.response;\n",
              "  });\n",
              "}\n",
              "\n",
              "/**\n",
              " * Generator function which is called between each async step of the upload\n",
              " * process.\n",
              " * @param {string} inputId Element ID of the input file picker element.\n",
              " * @param {string} outputId Element ID of the output display.\n",
              " * @return {!Iterable<!Object>} Iterable of next steps.\n",
              " */\n",
              "function* uploadFilesStep(inputId, outputId) {\n",
              "  const inputElement = document.getElementById(inputId);\n",
              "  inputElement.disabled = false;\n",
              "\n",
              "  const outputElement = document.getElementById(outputId);\n",
              "  outputElement.innerHTML = '';\n",
              "\n",
              "  const pickedPromise = new Promise((resolve) => {\n",
              "    inputElement.addEventListener('change', (e) => {\n",
              "      resolve(e.target.files);\n",
              "    });\n",
              "  });\n",
              "\n",
              "  const cancel = document.createElement('button');\n",
              "  inputElement.parentElement.appendChild(cancel);\n",
              "  cancel.textContent = 'Cancel upload';\n",
              "  const cancelPromise = new Promise((resolve) => {\n",
              "    cancel.onclick = () => {\n",
              "      resolve(null);\n",
              "    };\n",
              "  });\n",
              "\n",
              "  // Wait for the user to pick the files.\n",
              "  const files = yield {\n",
              "    promise: Promise.race([pickedPromise, cancelPromise]),\n",
              "    response: {\n",
              "      action: 'starting',\n",
              "    }\n",
              "  };\n",
              "\n",
              "  cancel.remove();\n",
              "\n",
              "  // Disable the input element since further picks are not allowed.\n",
              "  inputElement.disabled = true;\n",
              "\n",
              "  if (!files) {\n",
              "    return {\n",
              "      response: {\n",
              "        action: 'complete',\n",
              "      }\n",
              "    };\n",
              "  }\n",
              "\n",
              "  for (const file of files) {\n",
              "    const li = document.createElement('li');\n",
              "    li.append(span(file.name, {fontWeight: 'bold'}));\n",
              "    li.append(span(\n",
              "        `(${file.type || 'n/a'}) - ${file.size} bytes, ` +\n",
              "        `last modified: ${\n",
              "            file.lastModifiedDate ? file.lastModifiedDate.toLocaleDateString() :\n",
              "                                    'n/a'} - `));\n",
              "    const percent = span('0% done');\n",
              "    li.appendChild(percent);\n",
              "\n",
              "    outputElement.appendChild(li);\n",
              "\n",
              "    const fileDataPromise = new Promise((resolve) => {\n",
              "      const reader = new FileReader();\n",
              "      reader.onload = (e) => {\n",
              "        resolve(e.target.result);\n",
              "      };\n",
              "      reader.readAsArrayBuffer(file);\n",
              "    });\n",
              "    // Wait for the data to be ready.\n",
              "    let fileData = yield {\n",
              "      promise: fileDataPromise,\n",
              "      response: {\n",
              "        action: 'continue',\n",
              "      }\n",
              "    };\n",
              "\n",
              "    // Use a chunked sending to avoid message size limits. See b/62115660.\n",
              "    let position = 0;\n",
              "    do {\n",
              "      const length = Math.min(fileData.byteLength - position, MAX_PAYLOAD_SIZE);\n",
              "      const chunk = new Uint8Array(fileData, position, length);\n",
              "      position += length;\n",
              "\n",
              "      const base64 = btoa(String.fromCharCode.apply(null, chunk));\n",
              "      yield {\n",
              "        response: {\n",
              "          action: 'append',\n",
              "          file: file.name,\n",
              "          data: base64,\n",
              "        },\n",
              "      };\n",
              "\n",
              "      let percentDone = fileData.byteLength === 0 ?\n",
              "          100 :\n",
              "          Math.round((position / fileData.byteLength) * 100);\n",
              "      percent.textContent = `${percentDone}% done`;\n",
              "\n",
              "    } while (position < fileData.byteLength);\n",
              "  }\n",
              "\n",
              "  // All done.\n",
              "  yield {\n",
              "    response: {\n",
              "      action: 'complete',\n",
              "    }\n",
              "  };\n",
              "}\n",
              "\n",
              "scope.google = scope.google || {};\n",
              "scope.google.colab = scope.google.colab || {};\n",
              "scope.google.colab._files = {\n",
              "  _uploadFiles,\n",
              "  _uploadFilesContinue,\n",
              "};\n",
              "})(self);\n",
              "</script> "
            ]
          },
          "metadata": {}
        },
        {
          "output_type": "stream",
          "name": "stdout",
          "text": [
            "Saving JOBSHOPRL (1).zip to JOBSHOPRL (1).zip\n"
          ]
        }
      ]
    },
    {
      "cell_type": "code",
      "source": [
        "!find /content/JOBSHOPRL_extracted_content -name \"20_15_1_199.pth\""
      ],
      "metadata": {
        "colab": {
          "base_uri": "https://localhost:8080/"
        },
        "id": "X0j32JpRN8L1",
        "outputId": "4eb0cb57-283e-4abe-d52b-90c04eb9c938"
      },
      "execution_count": null,
      "outputs": [
        {
          "output_type": "stream",
          "name": "stdout",
          "text": [
            "find: ‘/content/JOBSHOPRL_extracted_content’: No such file or directory\n"
          ]
        }
      ]
    },
    {
      "cell_type": "code",
      "source": [
        "import os, zipfile\n",
        "\n",
        "zip_name = \"JOBSHOPRL.zip\"\n",
        "if not os.path.exists(zip_name):\n",
        "    zip_name = \"JOBSHOPRL (1).zip\"  # fallback if renamed\n",
        "\n",
        "extract_dir = \"JOBSHOPRL_extracted_content\"\n",
        "with zipfile.ZipFile(zip_name, 'r') as zip_ref:\n",
        "    zip_ref.extractall(extract_dir)\n",
        "\n",
        "print(\"✅ Extracted to:\", extract_dir)"
      ],
      "metadata": {
        "colab": {
          "base_uri": "https://localhost:8080/"
        },
        "id": "4OywbUAfNL4a",
        "outputId": "2fb7af52-325f-4597-f610-3b4dfe52eb87"
      },
      "execution_count": null,
      "outputs": [
        {
          "output_type": "stream",
          "name": "stdout",
          "text": [
            "✅ Extracted to: JOBSHOPRL_extracted_content\n"
          ]
        }
      ]
    },
    {
      "cell_type": "code",
      "source": [
        "!mkdir -p /data/SavedNetwork/Models_DMU\n",
        "!ln -sf /content/JOBSHOPRL_extracted_content/data/SavedNetwork/Models_DMU/20_15_1_199.pth /data/SavedNetwork/Models_DMU/20_15_1_199.pth"
      ],
      "metadata": {
        "id": "cQcpBf72NYPe"
      },
      "execution_count": null,
      "outputs": []
    },
    {
      "cell_type": "code",
      "source": [
        "import os\n",
        "import shutil\n",
        "from zipfile import ZipFile\n",
        "\n",
        "# STEP 1: Set correct paths\n",
        "zip_name = \"JOBSHOPRL.zip\"\n",
        "extract_dir = \"/content/JOBSHOPRL_extracted_content\"\n",
        "model_rel_path = \"data/SavedNetwork/Models_DMU/20_15_1_199.pth\"\n",
        "benchmark_rel_path = \"data/Benchmark_Instances/dmu_instances\"\n",
        "demo_dir = os.path.join(extract_dir, \"code\")\n",
        "\n",
        "model_abs_path = os.path.join(extract_dir, model_rel_path)\n",
        "model_target_dir = \"/data/SavedNetwork/Models_DMU\"\n",
        "model_target = os.path.join(model_target_dir, \"20_15_1_199.pth\")\n",
        "\n",
        "benchmark_abs_path = os.path.join(extract_dir, benchmark_rel_path)\n",
        "benchmark_target_dir = \"/data/Benchmark_Instances/dmu_instances\"\n",
        "\n",
        "\n",
        "# STEP 2: Extract ZIP if not done\n",
        "if not os.path.exists(extract_dir):\n",
        "    # Check for fallback zip name if original not found\n",
        "    if not os.path.exists(zip_name):\n",
        "        zip_name = \"JOBSHOPRL (1).zip\" # fallback if renamed\n",
        "\n",
        "    with ZipFile(zip_name, 'r') as zip_ref:\n",
        "        zip_ref.extractall(extract_dir)\n",
        "    print(\"✅ Extracted ZIP.\")\n",
        "\n",
        "# STEP 3: Confirm model and benchmark directories exist after extraction\n",
        "if not os.path.exists(model_abs_path):\n",
        "    raise FileNotFoundError(f\"❌ Model not found after extraction: {model_abs_path}\")\n",
        "\n",
        "if not os.path.exists(benchmark_abs_path):\n",
        "     raise FileNotFoundError(f\"❌ Benchmark instances not found after extraction: {benchmark_abs_path}\")\n",
        "\n",
        "\n",
        "# STEP 4: Link model and Copy benchmark instances to expected locations\n",
        "os.makedirs(model_target_dir, exist_ok=True)\n",
        "if not os.path.exists(model_target):\n",
        "    # Remove existing link/file if it exists\n",
        "    if os.path.exists(model_target):\n",
        "        os.remove(model_target)\n",
        "    os.symlink(model_abs_path, model_target)\n",
        "    print(f\"✅ Linked model to: {model_target}\")\n",
        "\n",
        "os.makedirs(benchmark_target_dir, exist_ok=True)\n",
        "# Copy the entire benchmark instances directory\n",
        "if not os.path.exists(os.path.join(benchmark_target_dir, os.path.basename(benchmark_abs_path))):\n",
        "     # Remove existing link/directory if it exists\n",
        "     if os.path.exists(benchmark_target_dir):\n",
        "         if os.path.islink(benchmark_target_dir):\n",
        "             os.unlink(benchmark_target_dir)\n",
        "         elif os.path.isdir(benchmark_target_dir):\n",
        "              shutil.rmtree(benchmark_target_dir)\n",
        "         else:\n",
        "             os.remove(benchmark_target_dir)\n",
        "\n",
        "     shutil.copytree(benchmark_abs_path, benchmark_target_dir)\n",
        "     print(f\"✅ Copied benchmark instances to: {benchmark_target_dir}\")\n",
        "\n",
        "\n",
        "# STEP 5: Run demo.sh\n",
        "if not os.path.exists(os.path.join(demo_dir, \"demo.sh\")):\n",
        "    raise FileNotFoundError(\"❌ demo.sh not found in code directory\")\n",
        "\n",
        "%cd $demo_dir\n",
        "!chmod +x demo.sh\n",
        "!bash demo.sh"
      ],
      "metadata": {
        "colab": {
          "base_uri": "https://localhost:8080/"
        },
        "id": "cztqcbshNcll",
        "outputId": "e9196c96-4811-4a79-8aab-321b2c25debf"
      },
      "execution_count": null,
      "outputs": [
        {
          "output_type": "stream",
          "name": "stdout",
          "text": [
            "✅ Copied benchmark instances to: /data/Benchmark_Instances/dmu_instances\n",
            "/content/JOBSHOPRL_extracted_content/code\n",
            "/content/JOBSHOPRL_extracted_content/code/mb_agg.py:44: UserWarning: torch.sparse.SparseTensor(indices, values, shape, *, device=) is deprecated.  Please use torch.sparse_coo_tensor(indices, values, shape, dtype=, device=). (Triggered internally at /pytorch/torch/csrc/utils/tensor_new.cpp:644.)\n",
            "  graph_pool = torch.sparse.FloatTensor(idx, elem,\n",
            "maskplan: 3304.0\n",
            "T: 1.1879425048828125\n",
            "maskplan: 3425.0\n",
            "T: 0.925635576248169\n",
            "maskplan: 3202.0\n",
            "T: 0.9138894081115723\n",
            "maskplan: 3229.0\n",
            "T: 0.9223504066467285\n",
            "maskplan: 3381.0\n",
            "T: 0.9072484970092773\n",
            "maskplan: 4336.0\n",
            "T: 0.9295814037322998\n",
            "maskplan: 4351.0\n",
            "T: 0.9807612895965576\n",
            "maskplan: 4328.0\n",
            "T: 0.9141280651092529\n",
            "maskplan: 4681.0\n",
            "T: 0.9289543628692627\n",
            "maskplan: 4544.0\n",
            "T: 1.127929925918579\n",
            "Gap: [0.28911432 0.26570584 0.1724643  0.20981641 0.22990178 0.33497537\n",
            " 0.28348083 0.2577739  0.34202982 0.38875306]\n",
            "Average Gap: 0.27740156210330047\n",
            "Average Time: 0.9738421440124512\n"
          ]
        }
      ]
    }
  ]
}